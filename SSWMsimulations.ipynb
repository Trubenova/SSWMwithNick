{
 "cells": [
  {
   "cell_type": "markdown",
   "metadata": {},
   "source": [
    "# Main description\n",
    "\n",
    "These are SSWM simulations: monomorphic population represented by a single bitstring, that is multiplied by weights to get the trait, and the fitness is exp(trait value * beta).  \n",
    "\n",
    "beta =0.002\n",
    "nInds=1000\n",
    "nLoci=500\n",
    "\n",
    "\n",
    "In each iteration, a mutation occurs. Mutation means flipping a bit. This change can be accepted with probability \n",
    "p=(1-exp(delta fitness0)/(1-exp(delta fitness0*nInds)  This is different from Nick's code. Here the probability seems to be too small, because the fitness difference is too small. \n",
    "<b> SUBSTITUTION BASICALLY NEVER HAPPENS. FOR THE SAKE OF FINISHING THE CODING I AM SETTING P=0.1 for positive mutations and P=0.001 for negative ones FOR NOW</b>\n",
    "\n",
    "\n",
    "If the mutation is accepted, the old genotype si replaced by the new one. I record the evolving genotype, fitness, and the mutated loci index. Then I plot evolving fitness, make histogram with nLoci bins to get the substitution count for each locus. The count should depend on the weights associated with each particular loci, if prob. of fixation was weight dependen (now it isn't). <b> NEED TO FIX THIS</b>\n",
    "\n",
    "\n",
    "\n",
    "\n"
   ]
  },
  {
   "cell_type": "code",
   "execution_count": 199,
   "metadata": {},
   "outputs": [],
   "source": [
    "import numpy as np   \n",
    "import matplotlib.pyplot as plt \n",
    "import random\n",
    "%matplotlib inline"
   ]
  },
  {
   "cell_type": "code",
   "execution_count": 200,
   "metadata": {},
   "outputs": [],
   "source": [
    "def oneSimulation(nLoci,nInds, beta,iterations, weights, pop0):\n",
    "    pfix = 0.001\n",
    "    arrayPop = []\n",
    "    arrayFit = []\n",
    "    arrayLoci=[]\n",
    "    for i in range (iterations):\n",
    "        [thisPop, thisFitness, locus] = singleIteration(nLoci, pfix, nInds, beta, weights.copy(), pop0.copy())\n",
    "        arrayPop.append(thisPop)\n",
    "        arrayFit.append(thisFitness)\n",
    "        arrayLoci.append(locus)\n",
    "        pop0=thisPop\n",
    "    arrayPop=np.array(arrayPop)\n",
    "    arrayFit=np.array(arrayFit)\n",
    "    arrayLoci=np.array(arrayLoci)\n",
    "    \n",
    "    plt.plot(arrayFit)\n",
    "    plt.xlabel('time')\n",
    "    plt.ylabel('fitness')\n",
    "    plt.show()\n",
    "    noSub=arrayLoci[arrayLoci>nLoci]\n",
    "    sub=arrayLoci[arrayLoci<nLoci]\n",
    "    [h,b,pat]=plt.hist(sub, nLoci)\n",
    "    plt.xlabel('locus number')\n",
    "    plt.ylabel('substitution count')\n",
    "    print ('substitution rate', (1-len(noSub)/iterations))\n",
    "    plt.show()\n",
    "    plt.scatter(weights,h, 1)\n",
    "    plt.xlabel('weights')\n",
    "    plt.ylabel('substitution count')\n",
    "    \n",
    "    \n",
    "\n",
    "def singleIteration(nLoci, pfix, nInds, beta, weights, pop0):\n",
    "    \n",
    "    oldFitness = np.exp(np.dot(weights,pop0))  #ok this is just a train, not fitness itself\n",
    "    [pop1, loc] = mutate(pop0.copy())\n",
    "    newFitness = np.exp(np.dot(weights,pop1))\n",
    "    #p= (1-np.exp(-(newFitness-oldFitness)*beta))/(1-np.exp(-(newFitness-oldFitness)*nInds*beta))\n",
    "    p=0.1\n",
    "    pMinus=0.001\n",
    "    # This is the crucial part - how is the probability calculated? this way it is too small. \n",
    "    locus= 2*nLoci\n",
    "    if newFitness == oldFitness: \n",
    "        a = random.random()\n",
    "        if a<1/float(N):\n",
    "            pop0 = pop1   #accept neutral mutation\n",
    "            oldFitness = newFitness\n",
    "            locus=loc\n",
    "    elif newFitness>oldFitness:   #add variable prob of fixation. \n",
    "        d=random.random()\n",
    "        if d<p:\n",
    "            pop0=pop1\n",
    "            oldFitness=newFitness\n",
    "            locus=loc\n",
    "    elif newFitness<oldFitness:\n",
    "        d=random.random()\n",
    "        if d<pMinus:\n",
    "            pop0=pop1\n",
    "            oldFitness=newFitness\n",
    "            locus=loc\n",
    "    \n",
    "    return pop0, oldFitness, locus\n",
    "\n",
    "    \n",
    "def mutate(genome):     #Takes and returns genome with random bit mutated. \n",
    "    NewGenome=list(genome)\n",
    "    i=random.randint(0,len(genome)-1)\n",
    "    NewGenome[i]=(NewGenome[i]-1)**2\n",
    "    return NewGenome, i"
   ]
  },
  {
   "cell_type": "code",
   "execution_count": 201,
   "metadata": {},
   "outputs": [],
   "source": [
    "def mainRun():\n",
    "    nLoci = 50  # number of loci per trait\n",
    "    nInds=1000\n",
    "    beta=0.002  #strength of selection on each trait\n",
    "    iterations = 1000000  \n",
    "    mutProb = 0.001#10.0/(nLoci*nInds)  #mutation per locus, this should result in 10 mut per gen\n",
    "        \n",
    "    weights = 1/np.sqrt(nLoci)*np.random.exponential(1, [ nLoci])*np.random.normal(0,1,[ nLoci])  \n",
    "    #exponential distribution in random direction? \n",
    "    \n",
    "    \n",
    "    pop0 = np.random.randint(0,2,( nLoci))  #generate new monomorphic population\n",
    "    print (np.shape(pop0))\n",
    "    oneSimulation(nLoci,nInds, beta,iterations, weights, pop0)\n"
   ]
  },
  {
   "cell_type": "code",
   "execution_count": 202,
   "metadata": {},
   "outputs": [
    {
     "name": "stdout",
     "output_type": "stream",
     "text": [
      "(50,)\n"
     ]
    },
    {
     "data": {
      "image/png": "[encoded data removed]",
      "text/plain": [
       "<Figure size 432x288 with 1 Axes>"
      ]
     },
     "metadata": {
      "needs_background": "light"
     },
     "output_type": "display_data"
    },
    {
     "name": "stdout",
     "output_type": "stream",
     "text": [
      "substitution rate 0.0019820000000000393\n"
     ]
    },
    {
     "data": {
      "image/png": "[encoded data removed]",
      "text/plain": [
       "<Figure size 432x288 with 1 Axes>"
      ]
     },
     "metadata": {
      "needs_background": "light"
     },
     "output_type": "display_data"
    },
    {
     "data": {
      "image/png": "[encoded data removed]",
      "text/plain": [
       "<Figure size 432x288 with 1 Axes>"
      ]
     },
     "metadata": {
      "needs_background": "light"
     },
     "output_type": "display_data"
    }
   ],
   "source": [
    "mainRun()"
   ]
  },
  {
   "cell_type": "markdown",
   "metadata": {},
   "source": [
    "substitution rate is all over the place - independent of the weights, because my probability of acceptance is currently independen from the weights. <b> This needs to be changed </b>\n",
    "\n",
    "moreover, I guess I should do multiple evolution trials and average across them"
   ]
  },
  {
   "cell_type": "code",
   "execution_count": null,
   "metadata": {},
   "outputs": [],
   "source": []
  }
 ],
 "metadata": {
  "kernelspec": {
   "display_name": "Python 3",
   "language": "python",
   "name": "python3"
  },
  "language_info": {
   "codemirror_mode": {
    "name": "ipython",
    "version": 3
   },
   "file_extension": ".py",
   "mimetype": "text/x-python",
   "name": "python",
   "nbconvert_exporter": "python",
   "pygments_lexer": "ipython3",
   "version": "3.7.3"
  }
 },
 "nbformat": 4,
 "nbformat_minor": 2
}
